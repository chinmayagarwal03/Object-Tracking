{
 "cells": [
  {
   "cell_type": "code",
   "execution_count": null,
   "id": "e30264ec",
   "metadata": {},
   "outputs": [],
   "source": [
    "import cv2\n",
    "\n",
    "############### Tracker Types #####################\n",
    "\n",
    "#tracker = cv2.TrackerBoosting_create()\n",
    "#tracker = cv2.TrackerMIL_create()\n",
    "#tracker = cv2.TrackerKCF_create()\n",
    "#tracker = cv2.TrackerTLD_create()\n",
    "#tracker = cv2.TrackerMedianFlow_create()\n",
    "#tracker = cv2.TrackerCSRT_create()\n",
    "tracker = cv2.legacy.TrackerMOSSE_create()\n",
    "\n",
    "########################################################\n",
    "\n",
    "\n",
    "cap = cv2.VideoCapture(0)\n",
    "# TRACKER INITIALIZATION\n",
    "success, frame = cap.read()\n",
    "bbox = cv2.selectROI(\"Tracking\",frame, False)\n",
    "tracker.init(frame, bbox)\n",
    "\n",
    "\n",
    "def drawBox(img,bbox):\n",
    "    x, y, w, h = int(bbox[0]), int(bbox[1]), int(bbox[2]), int(bbox[3])\n",
    "    cv2.rectangle(img, (x, y), ((x + w), (y + h)), (255, 0, 255), 3, 3 )\n",
    "    cv2.putText(img, \"Tracking\", (100, 75), cv2.FONT_HERSHEY_SIMPLEX, 0.7, (0, 255, 0), 2)\n",
    "\n",
    "\n",
    "while True:\n",
    "\n",
    "    timer = cv2.getTickCount()\n",
    "    success, img = cap.read()\n",
    "    success, bbox = tracker.update(img)\n",
    "\n",
    "    if success:\n",
    "        drawBox(img,bbox)\n",
    "    else:\n",
    "        cv2.putText(img, \"Lost\", (100, 75), cv2.FONT_HERSHEY_SIMPLEX, 0.7, (0, 0, 255), 2)\n",
    "\n",
    "    cv2.rectangle(img,(15,15),(200,90),(255,0,255),2)\n",
    "    cv2.putText(img, \"Fps:\", (20, 40), cv2.FONT_HERSHEY_SIMPLEX, 0.7, (255,0,255), 2);\n",
    "    cv2.putText(img, \"Status:\", (20, 75), cv2.FONT_HERSHEY_SIMPLEX, 0.7, (255, 0, 255), 2);\n",
    "\n",
    "\n",
    "    fps = cv2.getTickFrequency() / (cv2.getTickCount() - timer);\n",
    "    if fps>60: myColor = (20,230,20)\n",
    "    elif fps>20: myColor = (230,20,20)\n",
    "    else: myColor = (20,20,230)\n",
    "    cv2.putText(img,str(int(fps)), (75, 40), cv2.FONT_HERSHEY_SIMPLEX, 0.7, myColor, 2);\n",
    "\n",
    "    cv2.imshow(\"Tracking\", img)\n",
    "    if cv2.waitKey(1) & 0xff == ord('q'):\n",
    "       break\n"
   ]
  },
  {
   "cell_type": "code",
   "execution_count": null,
   "id": "c017a727",
   "metadata": {},
   "outputs": [],
   "source": []
  }
 ],
 "metadata": {
  "kernelspec": {
   "display_name": "Python 3 (ipykernel)",
   "language": "python",
   "name": "python3"
  },
  "language_info": {
   "codemirror_mode": {
    "name": "ipython",
    "version": 3
   },
   "file_extension": ".py",
   "mimetype": "text/x-python",
   "name": "python",
   "nbconvert_exporter": "python",
   "pygments_lexer": "ipython3",
   "version": "3.9.13"
  }
 },
 "nbformat": 4,
 "nbformat_minor": 5
}
